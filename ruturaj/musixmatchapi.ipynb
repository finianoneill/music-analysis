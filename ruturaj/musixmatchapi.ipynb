{
 "cells": [
  {
   "cell_type": "code",
   "execution_count": 15,
   "metadata": {},
   "outputs": [],
   "source": [
    "# Import dependencies\n",
    "import requests\n",
    "import numpy as np\n",
    "import pandas as pd\n",
    "from musixmatch import Musixmatch\n",
    "\n",
    "musixmatch = Musixmatch('api_key')"
   ]
  },
  {
   "cell_type": "code",
   "execution_count": 16,
   "metadata": {},
   "outputs": [
    {
     "data": {
      "text/plain": [
       "{'message': {'header': {'status_code': 200, 'execute_time': 0.010252952575684},\n",
       "  'body': {'artist_list': [{'artist': {'artist_id': 426,\n",
       "      'artist_mbid': 'b95ce3ff-3d05-4e87-9e01-c97b66af13d4',\n",
       "      'artist_name': 'Eminem',\n",
       "      'artist_name_translation_list': [],\n",
       "      'artist_comment': '',\n",
       "      'artist_country': 'US',\n",
       "      'artist_alias_list': [{'artist_alias': 'えみねむ'},\n",
       "       {'artist_alias': 'Ominem'},\n",
       "       {'artist_alias': 'The Real Slim Shady'}],\n",
       "      'artist_rating': 97,\n",
       "      'primary_genres': {'music_genre_list': [{'music_genre': {'music_genre_id': 18,\n",
       "          'music_genre_parent_id': 34,\n",
       "          'music_genre_name': 'Hip Hop/Rap',\n",
       "          'music_genre_name_extended': 'Hip Hop/Rap',\n",
       "          'music_genre_vanity': 'Hip-Hop-Rap'}}]},\n",
       "      'secondary_genres': {'music_genre_list': []},\n",
       "      'artist_twitter_url': 'https://twitter.com/eminem',\n",
       "      'artist_vanity_id': 'Eminem',\n",
       "      'artist_edit_url': 'https://www.musixmatch.com/artist/Eminem?utm_source=application&utm_campaign=api&utm_medium=cat.com%3A1409617913144',\n",
       "      'artist_share_url': 'https://www.musixmatch.com/artist/Eminem',\n",
       "      'artist_credits': {'artist_list': []},\n",
       "      'restricted': 0,\n",
       "      'managed': 0,\n",
       "      'updated_time': '2014-05-28T14:19:26Z'}}]}}}"
      ]
     },
     "execution_count": 16,
     "metadata": {},
     "output_type": "execute_result"
    }
   ],
   "source": [
    "musixmatch.chart_artists(1, 1)"
   ]
  },
  {
   "cell_type": "code",
   "execution_count": 17,
   "metadata": {},
   "outputs": [
    {
     "data": {
      "text/plain": [
       "{'message': {'header': {'status_code': 500,\n",
       "   'execute_time': 0.0018060207366943,\n",
       "   'exception_id': 9000},\n",
       "  'body': ''}}"
      ]
     },
     "execution_count": 17,
     "metadata": {},
     "output_type": "execute_result"
    }
   ],
   "source": [
    "musixmatch.track_get(15445219)"
   ]
  },
  {
   "cell_type": "code",
   "execution_count": 18,
   "metadata": {},
   "outputs": [
    {
     "data": {
      "text/plain": [
       "{'message': {'header': {'status_code': 200,\n",
       "   'execute_time': 0.0074398517608643},\n",
       "  'body': {'lyrics': {'lyrics_id': 18006211,\n",
       "    'can_edit': 0,\n",
       "    'locked': 0,\n",
       "    'published_status': 5,\n",
       "    'action_requested': '',\n",
       "    'verified': 0,\n",
       "    'restricted': 0,\n",
       "    'instrumental': 0,\n",
       "    'explicit': 0,\n",
       "    'lyrics_body': \"Now and then I think of when we were together\\nLike when you said you felt so happy you could die\\nTold myself that you were right for me\\nBut felt so lonely in your company\\nBut that was love, and it's an ache I still remember\\n\\nYou can get addicted to a certain kind of sadness\\nLike resignation to the end, always the end\\nSo when we found that we could not make sense\\nWell, you said that we would still be friends\\nBut I'll admit that I was glad that it was over\\n\\nBut you didn't have to cut me off\\nMake out like it never happened and that we were nothing\\nAnd I don't even need your love\\nBut you treat me like a stranger, and that feels so rough\\n\\nNo, you didn't have to stoop so low\\n...\\n\\n******* This Lyrics is NOT for Commercial use *******\\n(1409617913144)\",\n",
       "    'lyrics_language': 'en',\n",
       "    'lyrics_language_description': 'English',\n",
       "    'script_tracking_url': 'https://tracking.musixmatch.com/t1.0/m_js/e_1/sn_0/l_18006211/su_0/rs_0/tr_3vUCABs7CQrDCrQy0WqjhPoSeLxh_l8phXsevSh3KdeitQY9qmHBT3SGyjbMbugY7AQRGyfEGmudhDJnu3rrdYJaAmnDsQfouGhQGychi1cPpwnUGlRdbt5nZjCVwo7dzC4RXlQbtNIX8isfhS8ejNFfRv3KmP6U5cFCGF02ohOY2InyHPiJVnso8t7O56c81-wX9zJ9CChPLglOfB8RkcLbt43N-TfMsYeCAlhJWX_Oe8fc02XfJqrdF0TbVcyoxgO9yIL0IJtVU6ZRqZL2uwa27Pb5YD9c2rjBJ1d7F4I7s2NzGlgK1iEFgvk5Ima-5Ph4_UvZ-cWYPSEEkSig7IvAEPP76G6AtkATiGrjx-pxVo0l18t2DTsBq84Ig5oEit67db3Gn593_3slFjJs-_DONTMQiZwZweGgxj1Wp4NnVBkvO8QkHMRGFtyErz-JlmEB1cBJCYUXiyXGaXBfPgYvAtTWftpU/',\n",
       "    'pixel_tracking_url': 'https://tracking.musixmatch.com/t1.0/m_img/e_1/sn_0/l_18006211/su_0/rs_0/tr_3vUCAGsjOBw_QrcB-yT2WrwCdDZw_Esr_yxadp8VYKp6ObrJxgtbRimPRxwWH1DPzoA3IVfvHkn-_DUc5txgWoCWJ_Dz_nQ8zdE_xRUnNRLEXNYs_NxSqm7vA9dPYHS3Bzm6RiSFoVtRJ_RDxnj7XzxcBjN5y16roUlwwKvHLv_oUuziaqO086rs7cR4qKEQ0Xw5tyiTrbBg3AUA8FKWxSp23zNDz1IGWyrhgDSBeDUSL34hkCcn_Ney093VIprxbP42I1jiDDnZEgl-8S5M3JP3XLI3wzwTqk8M4xPvkckYK8G4ezvmdxgfKVLtnvmxFJNjzOUVFJrs-iPLHE0qjLIf6_hzB9TU9dAGlCdj0zAWWRl6jBXcLCiXLDcEem2gGrpjoWj7ILWZTJPa8ezbC28dXkRNQJ8cyYjhPVEYcLT8EsrGbXZaT_ZcUItxsQjNoxZ2Xeo-8-2ANZShHya94wiCjildEoGF/',\n",
       "    'html_tracking_url': 'https://tracking.musixmatch.com/t1.0/m_html/e_1/sn_0/l_18006211/su_0/rs_0/tr_3vUCAAw8LqgSnCOyII4FvjUtsMBIWXmtwoJsmiKBuvhYjZTbiMf3jdd6jR4OW54lhriaYT08Z-TTwYcB4FG5fyHBYhw0MC25hlRlT2AKUNhXlyM-H1Ipfh0qs0Wi3i7CJsRl3UbSIF3j3zT7Om2ZIauZcnjTEU9dpPOi4MDAzclISiPqs0Tr4RJSzkzFrLp3zvMvc2fYPuR4IgF6TPBQi0BZipLq9xWl-D4UeE2QlkEV6F5ecjGzopuPJVw5zlLyk7s_yuIxnBdswZmgBU3mXrpF1JT6PfTIXK8wIN1pTdto_0zFZnbsKl0kEPurCAVluaq9hrKY4M5_hens87nKEUBskaLapkBteq-EuC-X-tWjlVBCNRhktt9FjHji2DmJJ5g7EpLKwsyKVAmTVXTNspKv1QfUkc_O2jHRnXc6wAW9njEuQ9XmNEeLNgmKJWL6akpgUZ7sw7ZnfmqJuXQxFGDu5X1oTmGQ/',\n",
       "    'lyrics_copyright': 'Lyrics powered by www.musixmatch.com. This Lyrics is NOT for Commercial use and only 30% of the lyrics are returned.',\n",
       "    'writer_list': [],\n",
       "    'publisher_list': [],\n",
       "    'backlink_url': 'https://www.musixmatch.com/lyrics/Gotye-feat-Kimbra/Somebody-That-I-Used-to-Know?utm_source=application&utm_campaign=api&utm_medium=cat.com%3A1409617913144',\n",
       "    'updated_time': '2018-07-02T09:54:46Z'}}}}"
      ]
     },
     "execution_count": 18,
     "metadata": {},
     "output_type": "execute_result"
    }
   ],
   "source": [
    "musixmatch.track_lyrics_get(15953433)"
   ]
  },
  {
   "cell_type": "code",
   "execution_count": 19,
   "metadata": {},
   "outputs": [
    {
     "data": {
      "text/plain": [
       "{'message': {'header': {'status_code': 200,\n",
       "   'execute_time': 0.0076529979705811},\n",
       "  'body': {'snippet': {'snippet_id': 16229519,\n",
       "    'snippet_language': 'en',\n",
       "    'restricted': 1,\n",
       "    'instrumental': 0,\n",
       "    'snippet_body': '',\n",
       "    'script_tracking_url': 'https://tracking.musixmatch.com/t1.0/m_js/e_0/sn_1/l_16229519/su_0/rs_0/tr_3vUCAI_31O854Vm_NeYEX2hWEa7sLzJjNO1DQjf0jr7M2QTqqKvom0oPft7k8GS9fwo0J4lEhi0z3a8L153tcqxouN9bT_22KsAXzQ9PZj72aCsfOdGjcxK9Kz1ERpAcoVaxQal-1elA7mTwtSN4iVkRMDU1mR4nIN5bY2La1GURjK8v6HvbZ5K6USbomRejwWauIZ06iolMyLE79NBAv9mliwBxY6dxEzNhxYzUPg8dVO9pUH6JLf6erG1HRNmle2aJT3VYikUb5DotDaFa86PP_6dy-vnWLVwl2F2pHM01EqVDufMFaDWUy7XsXnoikvy6nufxSjswYqodKn1umwAsi05j8SggI0sYRABWFqMkMBmSbTHtoTRGV4WaGiCqAMSmQZ0qOlJvXiUfr2GFDVCe1DmJ_ijPQTGrr1VERX32SyRLIuK2GBFW4-xqiHiBssNBLTZx_TmTJpg/',\n",
       "    'pixel_tracking_url': 'https://tracking.musixmatch.com/t1.0/m_img/e_0/sn_1/l_16229519/su_0/rs_0/tr_3vUCAKfcBorgIvG2k5KnG0WHDHr2vSGnhfmiGR1ZziIPF1OosB61SrUsIDfL7avKkvWTc4ibAKQrry0qXCoBR9A0Wihif7I3DitgM449hrA1eldHEWQy4gaZr3gjASUTZDsLtrKQeahPJnunjjgzR8XNW68rygl1da-c5YKdsNRh5N6rnQn8zSx07_b3Iduk_lItsaO1Xu51-oOn30Foi_D5Cc_2vW5mK96Jp_iQwgJrsKSV_Ym7kfxqpxLrgIb3sgxc92no8yVRduzAyoM2bBlyhu8O4KdlfzArT1aWKlf8sQyKAvo4eytHEnq6fea5y-a4qjB6IVDWh1y0iC6mzp7VjUnxcgZ9SCecHwMItzhjyHhnAQfxAOyu3Wjx4FXZ6Q9Bf5OkSVv0KUPdie8_c_h_3uBQNU2MSRZmq72CZoFseaOJeWaZ2TPvBSBn15cZTDAssUrr0oqlN6Y/',\n",
       "    'html_tracking_url': 'https://tracking.musixmatch.com/t1.0/m_html/e_0/sn_1/l_16229519/su_0/rs_0/tr_3vUCADX4Qx0tDL-M-1pA_3OMmLhU3L4e358AoDlTcKLfQwIZcWVYJoOnYzU1VMLaun--0TQFIc_zrmON6-ii_RoZa5PiMIMDc2uu0QKZmr7py-dbwYgrh7GmvJ5endhiFzJl9hlJT1hTwnjO_YJJy2kdlTgB_AdYKHyLeuGAsBqRWp5yYy49tMddBWjetDagpbHHaVfI0r9npPgUWl2GUoAMuJYwMII7UtOFzlheHwveHJ_5xIKhZSeukdPs_l94tjXCN6sv7knNZefM96rwny_k3AXiKKWw11uPaKugYpiClMkxwyTEmZyGxgeqGkUjQt3Bm6esquYnC17moBmzfvE3ybiVuf60MlYh5VWzLSb-Tz5YZzogFF7zFGJPpBnO_xSll3bblhk2IKHzO1GRQMNhc6A9CKuw6BE3lES0Gq7mV9Lx8Hl5OeMHEi2lZsb83DLHEHQRQSmEfiY/',\n",
       "    'updated_time': '2016-12-30T23:43:08Z'}}}}"
      ]
     },
     "execution_count": 19,
     "metadata": {},
     "output_type": "execute_result"
    }
   ],
   "source": [
    "musixmatch.track_snippet_get(16860631)"
   ]
  },
  {
   "cell_type": "code",
   "execution_count": 20,
   "metadata": {},
   "outputs": [
    {
     "data": {
      "text/plain": [
       "{'message': {'header': {'status_code': 403,\n",
       "   'execute_time': 0.0011179447174072},\n",
       "  'body': ''}}"
      ]
     },
     "execution_count": 20,
     "metadata": {},
     "output_type": "execute_result"
    }
   ],
   "source": [
    "musixmatch.track_subtitle_get(14201829)"
   ]
  },
  {
   "cell_type": "code",
   "execution_count": 21,
   "metadata": {},
   "outputs": [
    {
     "data": {
      "text/plain": [
       "{'message': {'header': {'status_code': 200,\n",
       "   'execute_time': 0.0082190036773682},\n",
       "  'body': {'lyrics': {'lyrics_id': 17982468,\n",
       "    'can_edit': 0,\n",
       "    'locked': 0,\n",
       "    'published_status': 5,\n",
       "    'action_requested': '',\n",
       "    'verified': 0,\n",
       "    'restricted': 0,\n",
       "    'instrumental': 0,\n",
       "    'explicit': 1,\n",
       "    'lyrics_body': \"Yeah, yeah\\nWhen I walk on by, girls be looking like damn he fly\\nI pimp to the beat\\nWalking on the street in my new LaFreak, yeah\\nThis is how I roll, animal print, pants out control\\nIt's Redfoo with the big F O\\nThey like Bruce Lee rock at the club (yeah)\\n\\nGirl look at that body\\nGirl look at that body\\nGirl look at that body\\nI-I-I work out\\nGirl look at that body\\nGirl look at that body\\nGirl look at that body\\nI-I-I work out\\n\\nWhen I walk in the spot, this is what I see (Okay)\\nEverybody stops and they staring at me\\nI got passion in my pants and I ain't afraid to show it\\n(Show it, show it, show it...)\\n\\nI'm sexy and I know it\\n...\\n\\n******* This Lyrics is NOT for Commercial use *******\\n(1409617913144)\",\n",
       "    'lyrics_language': 'en',\n",
       "    'lyrics_language_description': 'English',\n",
       "    'script_tracking_url': 'https://tracking.musixmatch.com/t1.0/m_js/e_1/sn_0/l_17982468/su_0/rs_0/tr_3vUCAP36uODjbhh5RpymUfVGxHXu1G-yJCwvVOLLO3KqwQYPYhTa79hbVXwhRjmJU5pGu660V_cJC_A09FsPtKMzti6SeH5sc2Xe-HETcYL0zC0CI3OUQXGIQBUfikq51lguynsEwRkl4kLifp3lJ9uQ2TVEUyoAaBSPAMA6eExO6JCm659uLlFsbx3e9tSycTO52-59g2RAPbSB5M0xIdocqUujIQYjB4ZfUMP_4XmIMx14_PNcQ-2f_vJfaSnIH920zYrL0Nqyru_KgOwXlWSQ1mUpySxD6vXI1oTtcdJdSrc6y-aPPw1cy7WXMxNRCTfaJ90aGaunB6ShaPgnZkpz7fuYtShc2idaxulJ02pxHJLEuJr_0gstRpH_gk63V9PCOOSqb5AtknnszDnjxx5k8miuSXAPlKnNA0YazQuGUJeTZsYsGm1pDWzhAwQv2Z9U9Qy3aBAVRaVn/',\n",
       "    'pixel_tracking_url': 'https://tracking.musixmatch.com/t1.0/m_img/e_1/sn_0/l_17982468/su_0/rs_0/tr_3vUCAMcLO-U-UeJ22irsznG1I5PvYHRIiJZWBfJlrKkykWS8YiyTkEtAYNAtf55ZeHgEnSZwOXZe9WiYBbwAsvExv063HC4W2uz8xt886ZbILK7t-CUeUP7MFdoEzLRf5noITvf2xHJDLvAsNFqFf_5RwvVWKwLK_bjXAGJhGVZOcOY3_qUWuYY3j7vMQ_IY0Ffybgcs7bKeqIVeRmEqLu9VyTz55C0KdLmLrx2Xscqj8FggIiM8nmfkyPYh3MmFQ6ZBsCaAAl_p_y_WIQajt8LzZ7TF-7EyTSuKhMbw1sj56M06Qy_EyNjb0oPUc9Gy4iueDmqtLW6RZIYALyEo0wHZXG49di66_VdljeQZ2jw5RrDYLFFcdrT-P4sKJZYkZQC6nVZIyoedu1MAqWKYi8jHLq387JmIDd7FlClWaJ5dCkNzwTPLQPq3tYkNB2ahm1_NpjKR_wuP7CZy/',\n",
       "    'html_tracking_url': 'https://tracking.musixmatch.com/t1.0/m_html/e_1/sn_0/l_17982468/su_0/rs_0/tr_3vUCAMyLz9JyoqK6a-MAMXXCeaxAioue-BVJ2V-vELsZ_Z2HRu8unRrnL_Kk6SCrzsk9x_vd4x7Z_Q5XQy9Xwr6dGaRaosnHSl6QAB4kJ4hqEnJL-_lbSQ6IHdF88bdFhFNhgxTFnH9aHkBxX_ELhvgPXXjoYgCyfzo6qBeDwTQHIvBaTpQmZ6XRg7eDslAugcIlH8AD15dE9MclmznFQvk_bEHvEx24fHZSGoMvrtpZ9kFtbLxQzRQP4UvS7EFl7z5umqiRQFMcPaHrRDLJftYXedFW20uVaGTcE7dNdwVFKx1E768wJhwdR02Z-QtcTLYRPZaHb5v9NFRbwdS3xjVOHeQqbCFlp-QOBDCgzKtNU0jVkyGsQ2zgveq53eKMVGHTnI3xsWZng3mjzZU-Ghhbhp3iTQBBkBKr6uUwjWt70xLGuyPpJxYFE7zAoaNbcizRC5k4u1XE65Go/',\n",
       "    'lyrics_copyright': 'Lyrics powered by www.musixmatch.com. This Lyrics is NOT for Commercial use and only 30% of the lyrics are returned.',\n",
       "    'writer_list': [],\n",
       "    'publisher_list': [],\n",
       "    'backlink_url': 'https://www.musixmatch.com/lyrics/LMFAO/Sexy-and-I-Know-It?utm_source=application&utm_campaign=api&utm_medium=cat.com%3A1409617913144',\n",
       "    'updated_time': '2018-06-25T10:21:26Z'}}}}"
      ]
     },
     "execution_count": 21,
     "metadata": {},
     "output_type": "execute_result"
    }
   ],
   "source": [
    "musixmatch.matcher_lyrics_get('Sexy and I know it', 'LMFAO')"
   ]
  },
  {
   "cell_type": "code",
   "execution_count": 22,
   "metadata": {},
   "outputs": [
    {
     "data": {
      "text/plain": [
       "{'message': {'header': {'status_code': 200,\n",
       "   'execute_time': 0.0044801235198975,\n",
       "   'confidence': 950,\n",
       "   'mode': 'search',\n",
       "   'cached': 1},\n",
       "  'body': {'track': {'track_id': 84405079,\n",
       "    'track_mbid': '',\n",
       "    'track_isrc': '',\n",
       "    'track_spotify_id': '',\n",
       "    'track_soundcloud_id': '',\n",
       "    'track_xboxmusic_id': '',\n",
       "    'track_name': 'Lose Yourself - Soundtrack Version',\n",
       "    'track_name_translation_list': [],\n",
       "    'track_rating': 93,\n",
       "    'track_length': 321,\n",
       "    'commontrack_id': 12540712,\n",
       "    'instrumental': 0,\n",
       "    'explicit': 1,\n",
       "    'has_lyrics': 1,\n",
       "    'has_lyrics_crowd': 0,\n",
       "    'has_subtitles': 1,\n",
       "    'has_richsync': 1,\n",
       "    'num_favourite': 2072,\n",
       "    'lyrics_id': 18134101,\n",
       "    'subtitle_id': 21700626,\n",
       "    'album_id': 20906044,\n",
       "    'album_name': 'Curtain Call (Edited Version)',\n",
       "    'artist_id': 426,\n",
       "    'artist_mbid': 'b95ce3ff-3d05-4e87-9e01-c97b66af13d4',\n",
       "    'artist_name': 'Eminem',\n",
       "    'album_coverart_100x100': 'http://s.mxmcdn.net/images-storage/albums/nocover.png',\n",
       "    'album_coverart_350x350': '',\n",
       "    'album_coverart_500x500': '',\n",
       "    'album_coverart_800x800': '',\n",
       "    'track_share_url': 'https://www.musixmatch.com/lyrics/Eminem/Lose-Yourself-Soundtrack-Version?utm_source=application&utm_campaign=api&utm_medium=cat.com%3A1409617913144',\n",
       "    'track_edit_url': 'https://www.musixmatch.com/lyrics/Eminem/Lose-Yourself-Soundtrack-Version/edit?utm_source=application&utm_campaign=api&utm_medium=cat.com%3A1409617913144',\n",
       "    'commontrack_vanity_id': 'Eminem/Lose-Yourself-Soundtrack-Version',\n",
       "    'restricted': 0,\n",
       "    'first_release_date': '2002-01-01T00:00:00Z',\n",
       "    'updated_time': '2018-08-08T11:39:48Z',\n",
       "    'primary_genres': {'music_genre_list': [{'music_genre': {'music_genre_id': 18,\n",
       "        'music_genre_parent_id': 34,\n",
       "        'music_genre_name': 'Hip Hop/Rap',\n",
       "        'music_genre_name_extended': 'Hip Hop/Rap',\n",
       "        'music_genre_vanity': 'Hip-Hop-Rap'}}]},\n",
       "    'secondary_genres': {'music_genre_list': [{'music_genre': {'music_genre_id': 1076,\n",
       "        'music_genre_parent_id': 18,\n",
       "        'music_genre_name': 'Rap',\n",
       "        'music_genre_name_extended': 'Hip Hop/Rap / Rap',\n",
       "        'music_genre_vanity': 'Hip-Hop-Rap-Rap'}}]}}}}}"
      ]
     },
     "execution_count": 22,
     "metadata": {},
     "output_type": "execute_result"
    }
   ],
   "source": [
    "musixmatch.matcher_track_get('Lose Yourself (soundtrack)', 'Eminem')"
   ]
  },
  {
   "cell_type": "code",
   "execution_count": 23,
   "metadata": {},
   "outputs": [
    {
     "data": {
      "text/plain": [
       "{'message': {'header': {'status_code': 200,\n",
       "   'execute_time': 0.0045540332794189,\n",
       "   'available': 10},\n",
       "  'body': {'track_list': [{'track': {'track_id': 30057052,\n",
       "      'track_mbid': '7e0dd17b-97ca-3a60-a70f-069128ab9c1b',\n",
       "      'track_isrc': '',\n",
       "      'track_spotify_id': '',\n",
       "      'track_soundcloud_id': '',\n",
       "      'track_xboxmusic_id': '',\n",
       "      'track_name': \"Don't Panic\",\n",
       "      'track_name_translation_list': [],\n",
       "      'track_rating': 46,\n",
       "      'track_length': 137,\n",
       "      'commontrack_id': 12192843,\n",
       "      'instrumental': 0,\n",
       "      'explicit': 0,\n",
       "      'has_lyrics': 1,\n",
       "      'has_lyrics_crowd': 0,\n",
       "      'has_subtitles': 1,\n",
       "      'has_richsync': 1,\n",
       "      'num_favourite': 2376,\n",
       "      'lyrics_id': 17555704,\n",
       "      'subtitle_id': 18843796,\n",
       "      'album_id': 13750844,\n",
       "      'album_name': 'Parachutes',\n",
       "      'artist_id': 1039,\n",
       "      'artist_mbid': 'cc197bad-dc9c-440d-a5b5-d52ba2e14234',\n",
       "      'artist_name': 'Coldplay',\n",
       "      'album_coverart_100x100': 'http://s.mxmcdn.net/images-storage/albums/nocover.png',\n",
       "      'album_coverart_350x350': '',\n",
       "      'album_coverart_500x500': '',\n",
       "      'album_coverart_800x800': '',\n",
       "      'track_share_url': 'https://www.musixmatch.com/lyrics/Coldplay/Don-t-Panic?utm_source=application&utm_campaign=api&utm_medium=cat.com%3A1409617913144',\n",
       "      'track_edit_url': 'https://www.musixmatch.com/lyrics/Coldplay/Don-t-Panic/edit?utm_source=application&utm_campaign=api&utm_medium=cat.com%3A1409617913144',\n",
       "      'commontrack_vanity_id': 'Coldplay/Don-t-Panic',\n",
       "      'restricted': 0,\n",
       "      'first_release_date': '1999-10-11T00:00:00Z',\n",
       "      'updated_time': '2018-02-18T07:23:20Z',\n",
       "      'primary_genres': {'music_genre_list': [{'music_genre': {'music_genre_id': 20,\n",
       "          'music_genre_parent_id': 34,\n",
       "          'music_genre_name': 'Alternative',\n",
       "          'music_genre_name_extended': 'Alternative',\n",
       "          'music_genre_vanity': 'Alternative'}},\n",
       "        {'music_genre': {'music_genre_id': 21,\n",
       "          'music_genre_parent_id': 34,\n",
       "          'music_genre_name': 'Rock',\n",
       "          'music_genre_name_extended': 'Rock',\n",
       "          'music_genre_vanity': 'Rock'}}]},\n",
       "      'secondary_genres': {'music_genre_list': []}}}]}}}"
      ]
     },
     "execution_count": 23,
     "metadata": {},
     "output_type": "execute_result"
    }
   ],
   "source": [
    "musixmatch.album_tracks_get(13750844, 1, 1, '')"
   ]
  },
  {
   "cell_type": "code",
   "execution_count": 24,
   "metadata": {},
   "outputs": [
    {
     "data": {
      "text/plain": [
       "{'message': {'header': {'status_code': 200,\n",
       "   'available': 10,\n",
       "   'execute_time': 0.0035719871520996},\n",
       "  'body': {'artist_list': [{'artist': {'artist_id': 281,\n",
       "      'artist_mbid': 'f3bf61f8-97d4-4e52-a73d-2ddbbe8196c8',\n",
       "      'artist_name': 'DMX',\n",
       "      'artist_name_translation_list': [],\n",
       "      'artist_comment': '',\n",
       "      'artist_country': 'US',\n",
       "      'artist_alias_list': [{'artist_alias': 'DMX - The Great Depression'}],\n",
       "      'artist_rating': 72,\n",
       "      'primary_genres': {'music_genre_list': [{'music_genre': {'music_genre_id': 18,\n",
       "          'music_genre_parent_id': 34,\n",
       "          'music_genre_name': 'Hip Hop/Rap',\n",
       "          'music_genre_name_extended': 'Hip Hop/Rap',\n",
       "          'music_genre_vanity': 'Hip-Hop-Rap'}}]},\n",
       "      'secondary_genres': {'music_genre_list': []},\n",
       "      'artist_twitter_url': '',\n",
       "      'artist_vanity_id': 'DMX',\n",
       "      'artist_edit_url': 'https://www.musixmatch.com/artist/DMX?utm_source=application&utm_campaign=api&utm_medium=cat.com%3A1409617913144',\n",
       "      'artist_share_url': 'https://www.musixmatch.com/artist/DMX',\n",
       "      'artist_credits': {'artist_list': []},\n",
       "      'restricted': 0,\n",
       "      'managed': 0,\n",
       "      'updated_time': '2015-12-01T19:03:47Z'}}]}}}"
      ]
     },
     "execution_count": 24,
     "metadata": {},
     "output_type": "execute_result"
    }
   ],
   "source": [
    "musixmatch.artist_related_get(56, 1, 1)"
   ]
  },
  {
   "cell_type": "code",
   "execution_count": null,
   "metadata": {},
   "outputs": [],
   "source": []
  }
 ],
 "metadata": {
  "anaconda-cloud": {},
  "kernel_info": {
   "name": "python3"
  },
  "kernelspec": {
   "display_name": "Python [default]",
   "language": "python",
   "name": "python3"
  },
  "language_info": {
   "codemirror_mode": {
    "name": "ipython",
    "version": 3
   },
   "file_extension": ".py",
   "mimetype": "text/x-python",
   "name": "python",
   "nbconvert_exporter": "python",
   "pygments_lexer": "ipython3",
   "version": "3.6.5"
  },
  "nteract": {
   "version": "0.8.4"
  }
 },
 "nbformat": 4,
 "nbformat_minor": 1
}
