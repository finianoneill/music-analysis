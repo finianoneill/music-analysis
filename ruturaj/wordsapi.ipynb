{
 "cells": [
  {
   "cell_type": "code",
   "execution_count": 50,
   "metadata": {},
   "outputs": [],
   "source": [
    "# Import dependencies\n",
    "import requests\n",
    "import numpy as np\n",
    "import pandas as pd\n",
    "from rapidconnect import RapidConnect\n",
    "import json\n",
    "from bs4 import BeautifulSoup\n",
    "from wordfreq import word_frequency\n",
    "from wordfreq import zipf_frequency\n",
    "from wordfreq import top_n_list\n",
    "\n",
    "# pip install unirest\n",
    "#import unirest\n",
    "\n",
    "rapid = RapidConnect('music-analysis_5b91cd1ee4b02d6cfa6a0c0a', '/connect/auth/music-analysis_5b91cd1ee4b02d6cfa6a0c0a')\n"
   ]
  },
  {
   "cell_type": "code",
   "execution_count": 44,
   "metadata": {},
   "outputs": [],
   "source": [
    "response = requests.get(\"https://rokity-mashape-v1.p.mashape.com/?query=explore\",\n",
    "  headers={\n",
    "    \"X-Mashape-Key\": \"5Ya5l2DMxnmsh6gIVvXOUbP6tTMjp1CIPeujsngGr9TxIM3Zv5\",\n",
    "    \"X-Mashape-Host\": \"rokity-mashape-v1.p.mashape.com\"\n",
    "  }\n",
    ")"
   ]
  },
  {
   "cell_type": "code",
   "execution_count": 45,
   "metadata": {},
   "outputs": [],
   "source": [
    "word_url = \"https://wordsapiv1.p.mashape.com/words/time\"\n",
    "bearer_token = \"82a7033c-3bbf-4e42-9d90-28cc8e69df31\"\n",
    "genius_headers =  headers={\n",
    "    \"X-Mashape-Key\": \"5Ya5l2DMxnmsh6gIVvXOUbP6tTMjp1CIPeujsngGr9TxIM3Zv5\",\n",
    "    \"Accept\": \"application/json\"\n",
    "  }\n",
    "word_frequency_url = word_url + \"/frequency\""
   ]
  },
  {
   "cell_type": "code",
   "execution_count": 46,
   "metadata": {},
   "outputs": [
    {
     "data": {
      "text/plain": [
       "'https://wordsapiv1.p.mashape.com/words/time/frequency'"
      ]
     },
     "execution_count": 46,
     "metadata": {},
     "output_type": "execute_result"
    }
   ],
   "source": [
    "genius_search_url"
   ]
  },
  {
   "cell_type": "code",
   "execution_count": 47,
   "metadata": {},
   "outputs": [
    {
     "data": {
      "text/plain": [
       "1.07e-05"
      ]
     },
     "execution_count": 47,
     "metadata": {},
     "output_type": "execute_result"
    }
   ],
   "source": [
    "word_frequency('cafe', 'en')"
   ]
  },
  {
   "cell_type": "code",
   "execution_count": 53,
   "metadata": {},
   "outputs": [
    {
     "data": {
      "text/plain": [
       "4.03"
      ]
     },
     "execution_count": 53,
     "metadata": {},
     "output_type": "execute_result"
    }
   ],
   "source": [
    "zipf_frequency('cafe', 'en')"
   ]
  },
  {
   "cell_type": "code",
   "execution_count": 54,
   "metadata": {},
   "outputs": [
    {
     "data": {
      "text/plain": [
       "['the', 'of', 'to', 'and', 'a', 'in', 'i', 'is', 'that', 'for']"
      ]
     },
     "execution_count": 54,
     "metadata": {},
     "output_type": "execute_result"
    }
   ],
   "source": [
    "top_n_list('en', 10)"
   ]
  }
 ],
 "metadata": {
  "anaconda-cloud": {},
  "kernel_info": {
   "name": "python3"
  },
  "kernelspec": {
   "display_name": "Python [default]",
   "language": "python",
   "name": "python3"
  },
  "language_info": {
   "codemirror_mode": {
    "name": "ipython",
    "version": 3
   },
   "file_extension": ".py",
   "mimetype": "text/x-python",
   "name": "python",
   "nbconvert_exporter": "python",
   "pygments_lexer": "ipython3",
   "version": "3.6.5"
  },
  "nteract": {
   "version": "0.8.4"
  }
 },
 "nbformat": 4,
 "nbformat_minor": 1
}
