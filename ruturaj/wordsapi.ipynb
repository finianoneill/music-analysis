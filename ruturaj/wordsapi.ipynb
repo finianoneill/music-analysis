{
 "cells": [
  {
   "cell_type": "code",
   "execution_count": 22,
   "metadata": {},
   "outputs": [],
   "source": [
    "# Import dependencies\n",
    "import requests\n",
    "import numpy as np\n",
    "import pandas as pd\n",
    "from rapidconnect import RapidConnect\n",
    "import json\n",
    "from bs4 import BeautifulSoup\n",
    "from wordfreq import word_frequency\n",
    "from wordfreq import zipf_frequency\n",
    "from wordfreq import top_n_list\n",
    "import matplotlib.pyplot as plt\n",
    "%matplotlib inline\n",
    "import collections\n",
    "import os\n",
    " \n",
    "\n",
    "# pip install unirest\n",
    "#import unirest\n",
    "\n",
    "rapid = RapidConnect('music-analysis_5b91cd1ee4b02d6cfa6a0c0a', '/connect/auth/music-analysis_5b91cd1ee4b02d6cfa6a0c0a')\n"
   ]
  },
  {
   "cell_type": "code",
   "execution_count": null,
   "metadata": {},
   "outputs": [],
   "source": [
    "response = requests.get(\"https://rokity-mashape-v1.p.mashape.com/?query=explore\",\n",
    "  headers={\n",
    "    \"X-Mashape-Key\": \"5Ya5l2DMxnmsh6gIVvXOUbP6tTMjp1CIPeujsngGr9TxIM3Zv5\",\n",
    "    \"X-Mashape-Host\": \"rokity-mashape-v1.p.mashape.com\"\n",
    "  }\n",
    ")"
   ]
  },
  {
   "cell_type": "code",
   "execution_count": null,
   "metadata": {},
   "outputs": [],
   "source": [
    "word_url = \"https://wordsapiv1.p.mashape.com/words/time\"\n",
    "bearer_token = \"82a7033c-3bbf-4e42-9d90-28cc8e69df31\"\n",
    "genius_headers =  headers={\n",
    "    \"X-Mashape-Key\": \"5Ya5l2DMxnmsh6gIVvXOUbP6tTMjp1CIPeujsngGr9TxIM3Zv5\",\n",
    "    \"Accept\": \"application/json\"\n",
    "  }\n",
    "word_frequency_url = word_url + \"/frequency\""
   ]
  },
  {
   "cell_type": "code",
   "execution_count": null,
   "metadata": {},
   "outputs": [],
   "source": [
    "genius_search_url"
   ]
  },
  {
   "cell_type": "code",
   "execution_count": null,
   "metadata": {},
   "outputs": [],
   "source": [
    "word_frequency('cafe', 'en')"
   ]
  },
  {
   "cell_type": "code",
   "execution_count": null,
   "metadata": {},
   "outputs": [],
   "source": [
    "zipf_frequency('cafe', 'en')"
   ]
  },
  {
   "cell_type": "code",
   "execution_count": null,
   "metadata": {},
   "outputs": [],
   "source": [
    "top_n_list('en', 10)"
   ]
  },
  {
   "cell_type": "code",
   "execution_count": null,
   "metadata": {},
   "outputs": [],
   "source": [
    "dataframe_base_path = \"../Data_Files/Play_Lists/\"\n",
    "\n",
    "dataframe_names = [\"today_top_hits\", \"rap_caviar\", \"mint\", \"rock_this\", \"are_and_be\", \n",
    "             \"viva_latino\", \"hot_country\", \"new_music_friday_malaysia\",\n",
    "             \"viral_hits\", \"fresh_finds\", \"global_top_50\", \"united_states_top_50\",\n",
    "             \"global_viral_50\", \"united_states_viral_50\"]"
   ]
  },
  {
   "cell_type": "code",
   "execution_count": null,
   "metadata": {},
   "outputs": [],
   "source": [
    "dataframe_names"
   ]
  },
  {
   "cell_type": "code",
   "execution_count": null,
   "metadata": {},
   "outputs": [],
   "source": [
    "wordstring = 'it was the best of times it was the worst of times '\n",
    "wordstring += 'it was the age of wisdom it was the age of foolishness'\n",
    "\n",
    "wordlist = wordstring.split()\n",
    "\n",
    "wordfreq = []\n",
    "for w in wordlist:\n",
    "    wordfreq.append(wordlist.count(w))\n",
    "\n",
    "print(\"String\\n\" + wordstring +\"\\n\")\n",
    "print(\"List\\n\" + str(wordlist) + \"\\n\")\n",
    "print(\"Frequencies\\n\" + str(wordfreq) + \"\\n\")\n",
    "print(\"Pairs\\n\" + str(zip(wordlist, wordfreq)))"
   ]
  },
  {
   "cell_type": "code",
   "execution_count": 12,
   "metadata": {},
   "outputs": [
    {
     "name": "stdout",
     "output_type": "stream",
     "text": [
      "Playlist: todays_top_hits\n",
      "------------------------\n",
      "Playlist: rap_caviar\n",
      "------------------------\n",
      "Playlist: mint\n",
      "------------------------\n",
      "Playlist: rock_this\n",
      "------------------------\n",
      "Playlist: are_and_be\n",
      "------------------------\n",
      "Playlist: viva_latino\n",
      "------------------------\n",
      "Playlist: hot_country\n",
      "------------------------\n",
      "Playlist: new_music_friday_malaysia\n",
      "------------------------\n",
      "Playlist: viral_hits\n",
      "------------------------\n",
      "Playlist: fresh_finds\n",
      "------------------------\n",
      "Playlist: global_top_50\n",
      "------------------------\n",
      "Playlist: united_states_top_50\n",
      "------------------------\n",
      "Playlist: global_viral_50\n",
      "------------------------\n",
      "Playlist: united_states_viral_50\n",
      "------------------------\n"
     ]
    }
   ],
   "source": [
    "# Read input file, note the encoding is specified here \n",
    "# It may be different in your text file\n",
    "\n",
    "\n",
    "# List of playlist names\n",
    "playlists = [\"todays_top_hits\", \"rap_caviar\", \"mint\", \"rock_this\", \"are_and_be\",\n",
    "             \"viva_latino\", \"hot_country\", \"new_music_friday_malaysia\",\n",
    "             \"viral_hits\", \"fresh_finds\", \"global_top_50\", \"united_states_top_50\",\n",
    "             \"global_viral_50\", \"united_states_viral_50\"]\n",
    "\n",
    "# Initialize empty data frame\n",
    "sentiment_df = pd.DataFrame()\n",
    "\n",
    "# Iterate through playlists\n",
    "for playlist in playlists:\n",
    "    # Read in playlist .csv file\n",
    "    print(f\"Playlist: {playlist}\")\n",
    "    print(\"------------------------\")\n",
    "    pl_csv_path = f\"../Data_Files/Play_Lists/{playlist}.csv\"\n",
    "    pl_csv = pd.read_csv(pl_csv_path)\n",
    "    pl_csv = pl_csv.drop(\"Unnamed: 0\", axis = 1)\n",
    "\n",
    "file = open('../Data_Files/Song_Lyrics/are_and_be/Addicted_VanJess.txt', encoding=\"utf8\")\n",
    "a= file.read()"
   ]
  },
  {
   "cell_type": "code",
   "execution_count": 13,
   "metadata": {},
   "outputs": [],
   "source": [
    "stopwords = set(line.strip() for line in open('stopwords.txt'))\n",
    "stopwords = stopwords.union(set(['mr','mrs','one','two','said']))"
   ]
  },
  {
   "cell_type": "code",
   "execution_count": 14,
   "metadata": {},
   "outputs": [],
   "source": [
    "wordcount = {}"
   ]
  },
  {
   "cell_type": "code",
   "execution_count": 15,
   "metadata": {},
   "outputs": [],
   "source": [
    "for word in a.lower().split():\n",
    "    word = word.replace(\".\",\"\")\n",
    "    word = word.replace(\",\",\"\")\n",
    "    word = word.replace(\":\",\"\")\n",
    "    word = word.replace(\"\\\"\",\"\")\n",
    "    word = word.replace(\"!\",\"\")\n",
    "    word = word.replace(\"â€œ\",\"\")\n",
    "    word = word.replace(\"â€˜\",\"\")\n",
    "    word = word.replace(\"*\",\"\")\n",
    "    if word not in stopwords:\n",
    "        if word not in wordcount:\n",
    "            wordcount[word] = 1\n",
    "        else:\n",
    "            wordcount[word] += 1"
   ]
  },
  {
   "cell_type": "code",
   "execution_count": 16,
   "metadata": {},
   "outputs": [
    {
     "name": "stdout",
     "output_type": "stream",
     "text": [
      "How many most common words to print: 10\n",
      "\n",
      "OK. The 10 most common words are as follows\n",
      "\n",
      "you :  23\n",
      "and :  11\n",
      "i'm :  11\n",
      "i :  10\n",
      "need :  10\n",
      "me :  10\n",
      "what :  8\n",
      "every :  8\n",
      "the :  8\n",
      "in :  8\n"
     ]
    }
   ],
   "source": [
    "# Print most common word\n",
    "n_print = int(input(\"How many most common words to print: \"))\n",
    "print(\"\\nOK. The {} most common words are as follows\\n\".format(n_print))\n",
    "word_counter = collections.Counter(wordcount)\n",
    "for word, count in word_counter.most_common(n_print):\n",
    "    print(word, \": \", count)"
   ]
  },
  {
   "cell_type": "code",
   "execution_count": 17,
   "metadata": {},
   "outputs": [
    {
     "data": {
      "text/plain": [
       "<matplotlib.axes._subplots.AxesSubplot at 0x118776320>"
      ]
     },
     "execution_count": 17,
     "metadata": {},
     "output_type": "execute_result"
    },
    {
     "data": {
      "image/png": "[encoded data removed]",
      "text/plain": [
       "<Figure size 432x288 with 1 Axes>"
      ]
     },
     "metadata": {},
     "output_type": "display_data"
    }
   ],
   "source": [
    "lst = word_counter.most_common(n_print)\n",
    "df = pd.DataFrame(lst, columns = ['Word', 'Count'])\n",
    "df.plot.bar(x='Word',y='Count')"
   ]
  },
  {
   "cell_type": "code",
   "execution_count": 24,
   "metadata": {},
   "outputs": [
    {
     "ename": "TypeError",
     "evalue": "expected str, bytes or os.PathLike object, not ellipsis",
     "output_type": "error",
     "traceback": [
      "\u001b[0;31m---------------------------------------------------------------------------\u001b[0m",
      "\u001b[0;31mTypeError\u001b[0m                                 Traceback (most recent call last)",
      "\u001b[0;32m<ipython-input-24-5016978fcbb2>\u001b[0m in \u001b[0;36m<module>\u001b[0;34m()\u001b[0m\n\u001b[1;32m      2\u001b[0m \u001b[0;32mwith\u001b[0m \u001b[0mopen\u001b[0m\u001b[0;34m(\u001b[0m\u001b[0;34m'output.txt'\u001b[0m\u001b[0;34m,\u001b[0m \u001b[0;34m'w'\u001b[0m\u001b[0;34m)\u001b[0m \u001b[0;32mas\u001b[0m \u001b[0moutfile\u001b[0m\u001b[0;34m:\u001b[0m\u001b[0;34m\u001b[0m\u001b[0m\n\u001b[1;32m      3\u001b[0m     \u001b[0;32mfor\u001b[0m \u001b[0mfname\u001b[0m \u001b[0;32min\u001b[0m \u001b[0mfilenames\u001b[0m\u001b[0;34m:\u001b[0m\u001b[0;34m\u001b[0m\u001b[0m\n\u001b[0;32m----> 4\u001b[0;31m         \u001b[0;32mwith\u001b[0m \u001b[0mopen\u001b[0m\u001b[0;34m(\u001b[0m\u001b[0mfname\u001b[0m\u001b[0;34m)\u001b[0m \u001b[0;32mas\u001b[0m \u001b[0minfile\u001b[0m\u001b[0;34m:\u001b[0m\u001b[0;34m\u001b[0m\u001b[0m\n\u001b[0m\u001b[1;32m      5\u001b[0m             \u001b[0moutfile\u001b[0m\u001b[0;34m.\u001b[0m\u001b[0mwrite\u001b[0m\u001b[0;34m(\u001b[0m\u001b[0minfile\u001b[0m\u001b[0;34m.\u001b[0m\u001b[0mread\u001b[0m\u001b[0;34m(\u001b[0m\u001b[0;34m)\u001b[0m\u001b[0;34m)\u001b[0m\u001b[0;34m\u001b[0m\u001b[0m\n",
      "\u001b[0;31mTypeError\u001b[0m: expected str, bytes or os.PathLike object, not ellipsis"
     ]
    }
   ],
   "source": [
    "filenames = ['../Data_Files/Song_Lyrics/are_and_be/Addicted_VanJess.txt', '../Data_Files/Song_Lyrics/are_and_be/AfterDark_Drake.txt', ...]\n",
    "with open('output.txt', 'w') as outfile:\n",
    "    for fname in filenames:\n",
    "        with open(fname) as infile:\n",
    "            outfile.write(infile.read())"
   ]
  },
  {
   "cell_type": "code",
   "execution_count": null,
   "metadata": {},
   "outputs": [],
   "source": []
  }
 ],
 "metadata": {
  "anaconda-cloud": {},
  "kernel_info": {
   "name": "python3"
  },
  "kernelspec": {
   "display_name": "Python [default]",
   "language": "python",
   "name": "python3"
  },
  "language_info": {
   "codemirror_mode": {
    "name": "ipython",
    "version": 3
   },
   "file_extension": ".py",
   "mimetype": "text/x-python",
   "name": "python",
   "nbconvert_exporter": "python",
   "pygments_lexer": "ipython3",
   "version": "3.6.5"
  },
  "nteract": {
   "version": "0.8.4"
  }
 },
 "nbformat": 4,
 "nbformat_minor": 1
}
