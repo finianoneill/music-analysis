{
 "cells": [
  {
   "cell_type": "markdown",
   "metadata": {},
   "source": [
    "# Using Genius APIs to Pull out Lyrics for Top Songs Based on Streaming Popularity"
   ]
  },
  {
   "cell_type": "code",
   "execution_count": 24,
   "metadata": {},
   "outputs": [],
   "source": [
    "# Import dependencies\n",
    "import requests\n",
    "import numpy as np\n",
    "import pandas as pd\n",
    "from config import auth, genius_bearer_token\n",
    "import json\n",
    "from bs4 import BeautifulSoup\n",
    "import re"
   ]
  },
  {
   "cell_type": "markdown",
   "metadata": {},
   "source": [
    "## Pulling in data from playlist csvs"
   ]
  },
  {
   "cell_type": "code",
   "execution_count": 27,
   "metadata": {},
   "outputs": [],
   "source": [
    "# create base url\n",
    "base_dataframe_path = \"../../Data_Files/Play_Lists/\"\n",
    "\n",
    "# create list of all of the dataframe names\n",
    "playlists_names = [\"today_top_hits\", \"rap_caviar\", \"mint\", \"rock_this\", \"are_and_be\", \n",
    "             \"viva_latino\", \"hot_country\", \"new_music_friday_malaysia\",\n",
    "             \"viral_hits\", \"fresh_finds\", \"global_top_50\", \"united_states_top_50\",\n",
    "             \"global_viral_50\", \"united_states_viral_50\"]"
   ]
  },
  {
   "cell_type": "code",
   "execution_count": 28,
   "metadata": {},
   "outputs": [],
   "source": [
    "# loop through all of the playlist names and pull in data into the appropriate dataframes\n",
    "# Dataframes by playlist\n",
    "today_top_hits = pd.read_csv(base_dataframe_path + \"today_top_hits.csv\")\n",
    "rap_caviar = pd.read_csv(base_dataframe_path + \"rap_caviar.csv\")\n",
    "mint = pd.read_csv(base_dataframe_path + \"mint.csv\")\n",
    "rock_this = pd.read_csv(base_dataframe_path + \"rock_this.csv\")\n",
    "are_and_be = pd.read_csv(base_dataframe_path + \"are_and_be.csv\")\n",
    "viva_latino = pd.read_csv(base_dataframe_path + \"viva_latino.csv\")\n",
    "hot_country = pd.read_csv(base_dataframe_path + \"hot_country.csv\")\n",
    "new_music_friday_malaysia = pd.read_csv(base_dataframe_path + \"new_music_friday_malaysia.csv\")\n",
    "viral_hits = pd.read_csv(base_dataframe_path + \"viral_hits.csv\")\n",
    "fresh_finds = pd.read_csv(base_dataframe_path + \"fresh_finds.csv\")\n",
    "global_top_50 = pd.read_csv(base_dataframe_path + \"global_top_50.csv\")\n",
    "united_states_top_50 = pd.read_csv(base_dataframe_path + \"united_states_top_50.csv\")\n",
    "global_viral_50 = pd.read_csv(base_dataframe_path + \"global_viral_50.csv\")\n",
    "united_states_viral_50 = pd.read_csv(base_dataframe_path + \"united_states_viral_50.csv\")"
   ]
  },
  {
   "cell_type": "code",
   "execution_count": 29,
   "metadata": {},
   "outputs": [
    {
     "data": {
      "text/html": [
       "<div>\n",
       "<style scoped>\n",
       "    .dataframe tbody tr th:only-of-type {\n",
       "        vertical-align: middle;\n",
       "    }\n",
       "\n",
       "    .dataframe tbody tr th {\n",
       "        vertical-align: top;\n",
       "    }\n",
       "\n",
       "    .dataframe thead th {\n",
       "        text-align: right;\n",
       "    }\n",
       "</style>\n",
       "<table border=\"1\" class=\"dataframe\">\n",
       "  <thead>\n",
       "    <tr style=\"text-align: right;\">\n",
       "      <th></th>\n",
       "      <th>Unnamed: 0</th>\n",
       "      <th>Playlist</th>\n",
       "      <th>Track Name</th>\n",
       "      <th>Artist Name</th>\n",
       "      <th>Duration (ms)</th>\n",
       "      <th>Popularity</th>\n",
       "      <th>Instrumentalness</th>\n",
       "      <th>Lyrics Path</th>\n",
       "    </tr>\n",
       "  </thead>\n",
       "  <tbody>\n",
       "    <tr>\n",
       "      <th>0</th>\n",
       "      <td>0</td>\n",
       "      <td>Today's Top Hits</td>\n",
       "      <td>Happier</td>\n",
       "      <td>Marshmello</td>\n",
       "      <td>214289</td>\n",
       "      <td>89</td>\n",
       "      <td>0.000000</td>\n",
       "      <td>../Data_Files/Song_Lyrics/today_top_hits/Happi...</td>\n",
       "    </tr>\n",
       "    <tr>\n",
       "      <th>1</th>\n",
       "      <td>1</td>\n",
       "      <td>Today's Top Hits</td>\n",
       "      <td>Eastside (with Halsey &amp; Khalid)</td>\n",
       "      <td>benny blanco</td>\n",
       "      <td>173799</td>\n",
       "      <td>95</td>\n",
       "      <td>0.000000</td>\n",
       "      <td>../Data_Files/Song_Lyrics/today_top_hits/Easts...</td>\n",
       "    </tr>\n",
       "    <tr>\n",
       "      <th>2</th>\n",
       "      <td>2</td>\n",
       "      <td>Today's Top Hits</td>\n",
       "      <td>Be Alright</td>\n",
       "      <td>Dean Lewis</td>\n",
       "      <td>196373</td>\n",
       "      <td>90</td>\n",
       "      <td>0.000000</td>\n",
       "      <td>../Data_Files/Song_Lyrics/today_top_hits/BeAlr...</td>\n",
       "    </tr>\n",
       "    <tr>\n",
       "      <th>3</th>\n",
       "      <td>3</td>\n",
       "      <td>Today's Top Hits</td>\n",
       "      <td>Whenever (feat. Conor Maynard)</td>\n",
       "      <td>Kris Kross Amsterdam</td>\n",
       "      <td>163636</td>\n",
       "      <td>69</td>\n",
       "      <td>0.000000</td>\n",
       "      <td>../Data_Files/Song_Lyrics/today_top_hits/Whene...</td>\n",
       "    </tr>\n",
       "    <tr>\n",
       "      <th>4</th>\n",
       "      <td>4</td>\n",
       "      <td>Today's Top Hits</td>\n",
       "      <td>Promises (with Sam Smith)</td>\n",
       "      <td>Calvin Harris</td>\n",
       "      <td>213309</td>\n",
       "      <td>90</td>\n",
       "      <td>0.000005</td>\n",
       "      <td>../Data_Files/Song_Lyrics/today_top_hits/Promi...</td>\n",
       "    </tr>\n",
       "  </tbody>\n",
       "</table>\n",
       "</div>"
      ],
      "text/plain": [
       "   Unnamed: 0          Playlist                       Track Name  \\\n",
       "0           0  Today's Top Hits                          Happier   \n",
       "1           1  Today's Top Hits  Eastside (with Halsey & Khalid)   \n",
       "2           2  Today's Top Hits                       Be Alright   \n",
       "3           3  Today's Top Hits   Whenever (feat. Conor Maynard)   \n",
       "4           4  Today's Top Hits        Promises (with Sam Smith)   \n",
       "\n",
       "            Artist Name  Duration (ms)  Popularity  Instrumentalness  \\\n",
       "0            Marshmello         214289          89          0.000000   \n",
       "1          benny blanco         173799          95          0.000000   \n",
       "2            Dean Lewis         196373          90          0.000000   \n",
       "3  Kris Kross Amsterdam         163636          69          0.000000   \n",
       "4         Calvin Harris         213309          90          0.000005   \n",
       "\n",
       "                                         Lyrics Path  \n",
       "0  ../Data_Files/Song_Lyrics/today_top_hits/Happi...  \n",
       "1  ../Data_Files/Song_Lyrics/today_top_hits/Easts...  \n",
       "2  ../Data_Files/Song_Lyrics/today_top_hits/BeAlr...  \n",
       "3  ../Data_Files/Song_Lyrics/today_top_hits/Whene...  \n",
       "4  ../Data_Files/Song_Lyrics/today_top_hits/Promi...  "
      ]
     },
     "execution_count": 29,
     "metadata": {},
     "output_type": "execute_result"
    }
   ],
   "source": [
    "today_top_hits.head()"
   ]
  },
  {
   "cell_type": "markdown",
   "metadata": {},
   "source": [
    "## Working with Genius API"
   ]
  },
  {
   "cell_type": "code",
   "execution_count": 20,
   "metadata": {},
   "outputs": [],
   "source": [
    "# define the url parameters for the API request\n",
    "genius_base_url = \"http://api.genius.com\"\n",
    "genius_headers = {'Authorization': 'Bearer ' + genius_bearer_token}\n",
    "genius_search_url = genius_base_url + \"/search\"\n",
    "\n",
    "# define path to store lyrics at\n",
    "lyric_base_path = \"../Data_Files/Song_Lyrics\"\n",
    "\n",
    "# create list to store all dataframes of playlists\n",
    "playlists = [today_top_hits, rap_caviar, mint, rock_this, are_and_be, \n",
    "             viva_latino, hot_country, new_music_friday_malaysia,\n",
    "             viral_hits, fresh_finds, global_top_50, united_states_top_50,\n",
    "             global_viral_50, united_states_viral_50]\n",
    "\n",
    "playlist_counter = 0"
   ]
  },
  {
   "cell_type": "code",
   "execution_count": 21,
   "metadata": {},
   "outputs": [
    {
     "name": "stderr",
     "output_type": "stream",
     "text": [
      "/Users/finianoneill/anaconda3/envs/PythonData/lib/python3.6/site-packages/ipykernel/__main__.py:38: SettingWithCopyWarning: \n",
      "A value is trying to be set on a copy of a slice from a DataFrame\n",
      "\n",
      "See the caveats in the documentation: http://pandas.pydata.org/pandas-docs/stable/indexing.html#indexing-view-versus-copy\n"
     ]
    }
   ],
   "source": [
    "# loop through all dataframes of playlists to store song lyrics\n",
    "for playlist in playlists:\n",
    "\n",
    "    # create new column in play list data frame for link to song lyric .txt file\n",
    "    playlist[\"Lyrics Path\"] = \"\"\n",
    "    # define storage path to lyric .txt files\n",
    "    playlist_lyrics_path = lyric_base_path + \"/\" + str(playlists_names[playlist_counter]) + \"/\"\n",
    "\n",
    "    # loop through each row in the data frame\n",
    "    for index, row in playlist.iterrows():\n",
    "\n",
    "        # search for a test song\n",
    "        song_title = row[\"Track Name\"]\n",
    "        artist_name = row[\"Artist Name\"]\n",
    "        genius_data = {'q': song_title + ' ' + artist_name}\n",
    "        genius_response = requests.get(genius_search_url, params=genius_data, headers=genius_headers)\n",
    "        genius_json = genius_response.json()\n",
    "\n",
    "        # loop through hit in json request to pull out song url\n",
    "        for hit in genius_json[\"response\"][\"hits\"]:\n",
    "            if hit[\"result\"][\"primary_artist\"][\"name\"] == artist_name:\n",
    "                song_url = hit[\"result\"][\"url\"]\n",
    "                break\n",
    "\n",
    "        # use beautiful soup to crawl found song url and store the lyrics\n",
    "        song_page = requests.get(song_url)\n",
    "        song_html = BeautifulSoup(song_page.text, 'html.parser')\n",
    "        song_lyrics = song_html.find('div', class_='lyrics').get_text()\n",
    "\n",
    "        # store the lyrics in a .txt file and save to the project folder\n",
    "        text_file_name = (song_title + \"_\" + artist_name)\n",
    "        text_file_name = re.sub(r\"[^a-zA-Z0-9_]+\", '', text_file_name)\n",
    "        txt_file = open(playlist_lyrics_path + text_file_name + \".txt\", \"w\") \n",
    "        txt_file.write(song_lyrics) \n",
    "        txt_file.close()\n",
    "\n",
    "        # store the path to the file in the dataframe\n",
    "        playlist[\"Lyrics Path\"][index] = (playlist_lyrics_path + text_file_name + \".txt\")\n",
    "\n",
    "    # save the dataframe as a csv file\n",
    "    file_name = str(playlists_names[playlist_counter])\n",
    "    file_name = re.sub(r\"[^a-zA-Z0-9_]+\", '', file_name)\n",
    "    playlist.to_csv(\"../Data_Files/Play_Lists/\" + file_name + \".csv\")\n",
    "    \n",
    "    playlist_counter += 1"
   ]
  },
  {
   "cell_type": "code",
   "execution_count": null,
   "metadata": {},
   "outputs": [],
   "source": []
  },
  {
   "cell_type": "code",
   "execution_count": null,
   "metadata": {},
   "outputs": [],
   "source": []
  }
 ],
 "metadata": {
  "kernelspec": {
   "display_name": "Python [conda env:PythonData]",
   "language": "python",
   "name": "conda-env-PythonData-py"
  },
  "language_info": {
   "codemirror_mode": {
    "name": "ipython",
    "version": 3
   },
   "file_extension": ".py",
   "mimetype": "text/x-python",
   "name": "python",
   "nbconvert_exporter": "python",
   "pygments_lexer": "ipython3",
   "version": "3.6.5"
  }
 },
 "nbformat": 4,
 "nbformat_minor": 2
}
