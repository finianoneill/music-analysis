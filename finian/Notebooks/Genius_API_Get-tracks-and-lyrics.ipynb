{
 "cells": [
  {
   "cell_type": "markdown",
   "metadata": {},
   "source": [
    "# Using Genius APIs to Pull out Lyrics for Top Songs Based on Streaming Popularity"
   ]
  },
  {
   "cell_type": "code",
   "execution_count": 37,
   "metadata": {},
   "outputs": [],
   "source": [
    "# Import dependencies\n",
    "import requests\n",
    "import numpy as np\n",
    "import pandas as pd\n",
    "from config import auth, genius_bearer_token\n",
    "import json\n",
    "from bs4 import BeautifulSoup\n",
    "import re"
   ]
  },
  {
   "cell_type": "markdown",
   "metadata": {},
   "source": [
    "## Pulling in data from playlist csvs"
   ]
  },
  {
   "cell_type": "code",
   "execution_count": 38,
   "metadata": {},
   "outputs": [],
   "source": [
    "# create base url\n",
    "base_dataframe_path = \"../../Data_Files/Play_Lists/\"\n",
    "\n",
    "# create list of all of the dataframe names\n",
    "playlists_names = [\"todays_top_hits\", \"rap_caviar\", \"mint\", \"rock_this\", \"are_and_be\", \n",
    "             \"viva_latino\", \"hot_country\", \"new_music_friday_malaysia\",\n",
    "             \"viral_hits\", \"fresh_finds\", \"global_top_50\", \"united_states_top_50\",\n",
    "             \"global_viral_50\", \"united_states_viral_50\"]"
   ]
  },
  {
   "cell_type": "code",
   "execution_count": 39,
   "metadata": {},
   "outputs": [],
   "source": [
    "# loop through all of the playlist names and pull in data into the appropriate dataframes\n",
    "# Dataframes by playlist\n",
    "todays_top_hits = pd.read_csv(base_dataframe_path + \"todays_top_hits.csv\")\n",
    "rap_caviar = pd.read_csv(base_dataframe_path + \"rap_caviar.csv\")\n",
    "mint = pd.read_csv(base_dataframe_path + \"mint.csv\")\n",
    "rock_this = pd.read_csv(base_dataframe_path + \"rock_this.csv\")\n",
    "are_and_be = pd.read_csv(base_dataframe_path + \"are_and_be.csv\")\n",
    "viva_latino = pd.read_csv(base_dataframe_path + \"viva_latino.csv\")\n",
    "hot_country = pd.read_csv(base_dataframe_path + \"hot_country.csv\")\n",
    "new_music_friday_malaysia = pd.read_csv(base_dataframe_path + \"new_music_friday_malaysia.csv\")\n",
    "viral_hits = pd.read_csv(base_dataframe_path + \"viral_hits.csv\")\n",
    "fresh_finds = pd.read_csv(base_dataframe_path + \"fresh_finds.csv\")\n",
    "global_top_50 = pd.read_csv(base_dataframe_path + \"global_top_50.csv\")\n",
    "united_states_top_50 = pd.read_csv(base_dataframe_path + \"united_states_top_50.csv\")\n",
    "global_viral_50 = pd.read_csv(base_dataframe_path + \"global_viral_50.csv\")\n",
    "united_states_viral_50 = pd.read_csv(base_dataframe_path + \"united_states_viral_50.csv\")"
   ]
  },
  {
   "cell_type": "code",
   "execution_count": 40,
   "metadata": {},
   "outputs": [
    {
     "data": {
      "text/html": [
       "<div>\n",
       "<style scoped>\n",
       "    .dataframe tbody tr th:only-of-type {\n",
       "        vertical-align: middle;\n",
       "    }\n",
       "\n",
       "    .dataframe tbody tr th {\n",
       "        vertical-align: top;\n",
       "    }\n",
       "\n",
       "    .dataframe thead th {\n",
       "        text-align: right;\n",
       "    }\n",
       "</style>\n",
       "<table border=\"1\" class=\"dataframe\">\n",
       "  <thead>\n",
       "    <tr style=\"text-align: right;\">\n",
       "      <th></th>\n",
       "      <th>Playlist</th>\n",
       "      <th>Track Name</th>\n",
       "      <th>Artist Name</th>\n",
       "      <th>Duration (ms)</th>\n",
       "      <th>Popularity</th>\n",
       "      <th>Instrumentalness</th>\n",
       "    </tr>\n",
       "  </thead>\n",
       "  <tbody>\n",
       "    <tr>\n",
       "      <th>0</th>\n",
       "      <td>Are &amp; Be</td>\n",
       "      <td>Gonna Love Me</td>\n",
       "      <td>Teyana Taylor</td>\n",
       "      <td>166997</td>\n",
       "      <td>73</td>\n",
       "      <td>0.000026</td>\n",
       "    </tr>\n",
       "    <tr>\n",
       "      <th>1</th>\n",
       "      <td>Are &amp; Be</td>\n",
       "      <td>Feels Like Summer</td>\n",
       "      <td>Childish Gambino</td>\n",
       "      <td>297404</td>\n",
       "      <td>78</td>\n",
       "      <td>0.004820</td>\n",
       "    </tr>\n",
       "    <tr>\n",
       "      <th>2</th>\n",
       "      <td>Are &amp; Be</td>\n",
       "      <td>Call Out My Name</td>\n",
       "      <td>The Weeknd</td>\n",
       "      <td>228373</td>\n",
       "      <td>84</td>\n",
       "      <td>0.000000</td>\n",
       "    </tr>\n",
       "    <tr>\n",
       "      <th>3</th>\n",
       "      <td>Are &amp; Be</td>\n",
       "      <td>Trip</td>\n",
       "      <td>Ella Mai</td>\n",
       "      <td>217118</td>\n",
       "      <td>78</td>\n",
       "      <td>0.000000</td>\n",
       "    </tr>\n",
       "    <tr>\n",
       "      <th>4</th>\n",
       "      <td>Are &amp; Be</td>\n",
       "      <td>Love Lies (with Normani)</td>\n",
       "      <td>Khalid</td>\n",
       "      <td>201707</td>\n",
       "      <td>87</td>\n",
       "      <td>0.000000</td>\n",
       "    </tr>\n",
       "  </tbody>\n",
       "</table>\n",
       "</div>"
      ],
      "text/plain": [
       "   Playlist                Track Name       Artist Name  Duration (ms)  \\\n",
       "0  Are & Be             Gonna Love Me     Teyana Taylor         166997   \n",
       "1  Are & Be         Feels Like Summer  Childish Gambino         297404   \n",
       "2  Are & Be          Call Out My Name        The Weeknd         228373   \n",
       "3  Are & Be                      Trip          Ella Mai         217118   \n",
       "4  Are & Be  Love Lies (with Normani)            Khalid         201707   \n",
       "\n",
       "   Popularity  Instrumentalness  \n",
       "0          73          0.000026  \n",
       "1          78          0.004820  \n",
       "2          84          0.000000  \n",
       "3          78          0.000000  \n",
       "4          87          0.000000  "
      ]
     },
     "execution_count": 40,
     "metadata": {},
     "output_type": "execute_result"
    }
   ],
   "source": [
    "are_and_be.head()"
   ]
  },
  {
   "cell_type": "markdown",
   "metadata": {},
   "source": [
    "## Working with Genius API"
   ]
  },
  {
   "cell_type": "code",
   "execution_count": 41,
   "metadata": {},
   "outputs": [],
   "source": [
    "# define the url parameters for the API request\n",
    "genius_base_url = \"http://api.genius.com\"\n",
    "genius_headers = {'Authorization': 'Bearer ' + genius_bearer_token}\n",
    "genius_search_url = genius_base_url + \"/search\"\n",
    "\n",
    "# define path to store lyrics at\n",
    "lyric_base_path = \"../../Data_Files/Song_Lyrics\"\n",
    "\n",
    "# create list to store all dataframes of playlists\n",
    "playlists = [todays_top_hits, rap_caviar, mint, rock_this, are_and_be, \n",
    "             viva_latino, hot_country, new_music_friday_malaysia,\n",
    "             viral_hits, fresh_finds, global_top_50, united_states_top_50,\n",
    "             global_viral_50, united_states_viral_50]\n",
    "\n",
    "playlist_counter = 0"
   ]
  },
  {
   "cell_type": "code",
   "execution_count": 43,
   "metadata": {},
   "outputs": [
    {
     "name": "stderr",
     "output_type": "stream",
     "text": [
      "/Users/finianoneill/anaconda3/envs/PythonData/lib/python3.6/site-packages/ipykernel/__main__.py:38: SettingWithCopyWarning: \n",
      "A value is trying to be set on a copy of a slice from a DataFrame\n",
      "\n",
      "See the caveats in the documentation: http://pandas.pydata.org/pandas-docs/stable/indexing.html#indexing-view-versus-copy\n"
     ]
    }
   ],
   "source": [
    "# loop through all dataframes of playlists to store song lyrics\n",
    "for playlist in playlists:\n",
    "\n",
    "    # create new column in play list data frame for link to song lyric .txt file\n",
    "    playlist[\"Lyrics Path\"] = \"\"\n",
    "    # define storage path to lyric .txt files\n",
    "    playlist_lyrics_path = lyric_base_path + \"/\" + str(playlists_names[playlist_counter]) + \"/\"\n",
    "\n",
    "    # loop through each row in the data frame\n",
    "    for index, row in playlist.iterrows():\n",
    "\n",
    "        # search for a test song\n",
    "        song_title = row[\"Track Name\"]\n",
    "        artist_name = row[\"Artist Name\"]\n",
    "        genius_data = {'q': song_title + ' ' + artist_name}\n",
    "        genius_response = requests.get(genius_search_url, params=genius_data, headers=genius_headers)\n",
    "        genius_json = genius_response.json()\n",
    "\n",
    "        # loop through hit in json request to pull out song url\n",
    "        for hit in genius_json[\"response\"][\"hits\"]:\n",
    "            if hit[\"result\"][\"primary_artist\"][\"name\"] == artist_name:\n",
    "                song_url = hit[\"result\"][\"url\"]\n",
    "                break\n",
    "\n",
    "        # use beautiful soup to crawl found song url and store the lyrics\n",
    "        song_page = requests.get(song_url)\n",
    "        song_html = BeautifulSoup(song_page.text, 'html.parser')\n",
    "        song_lyrics = song_html.find('div', class_='lyrics').get_text()\n",
    "\n",
    "        # store the lyrics in a .txt file and save to the project folder\n",
    "        text_file_name = (song_title + \"_\" + artist_name)\n",
    "        text_file_name = re.sub(r\"[^a-zA-Z0-9_]+\", '', text_file_name)\n",
    "        txt_file = open(playlist_lyrics_path + text_file_name + \".txt\", \"w\") \n",
    "        txt_file.write(song_lyrics) \n",
    "        txt_file.close()\n",
    "\n",
    "        # store the path to the file in the dataframe\n",
    "        playlist[\"Lyrics Path\"][index] = (playlist_lyrics_path + text_file_name + \".txt\")\n",
    "\n",
    "    # save the dataframe as a csv file\n",
    "    file_name = str(playlists_names[playlist_counter])\n",
    "    file_name = re.sub(r\"[^a-zA-Z0-9_]+\", '', file_name)\n",
    "    playlist.to_csv(\"../../Data_Files/Play_Lists/\" + file_name + \".csv\")\n",
    "    \n",
    "    playlist_counter += 1"
   ]
  },
  {
   "cell_type": "code",
   "execution_count": null,
   "metadata": {},
   "outputs": [],
   "source": []
  },
  {
   "cell_type": "code",
   "execution_count": null,
   "metadata": {},
   "outputs": [],
   "source": []
  }
 ],
 "metadata": {
  "kernelspec": {
   "display_name": "Python [conda env:PythonData]",
   "language": "python",
   "name": "conda-env-PythonData-py"
  },
  "language_info": {
   "codemirror_mode": {
    "name": "ipython",
    "version": 3
   },
   "file_extension": ".py",
   "mimetype": "text/x-python",
   "name": "python",
   "nbconvert_exporter": "python",
   "pygments_lexer": "ipython3",
   "version": "3.6.5"
  }
 },
 "nbformat": 4,
 "nbformat_minor": 2
}
