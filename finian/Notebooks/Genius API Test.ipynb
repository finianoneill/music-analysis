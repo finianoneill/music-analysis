{
 "cells": [
  {
   "cell_type": "markdown",
   "metadata": {},
   "source": [
    "# Test Run of Genius API"
   ]
  },
  {
   "cell_type": "code",
   "execution_count": 35,
   "metadata": {},
   "outputs": [],
   "source": [
    "# import dependencies\n",
    "import pandas as pd\n",
    "import requests\n",
    "import json\n",
    "from bs4 import BeautifulSoup"
   ]
  },
  {
   "cell_type": "code",
   "execution_count": 36,
   "metadata": {},
   "outputs": [],
   "source": [
    "# define the url parameters for the API request\n",
    "genius_base_url = \"http://api.genius.com\"\n",
    "bearer_token = \"bv-wihATHV37pwdLcf76NJyTHNnUFq-sGHcWVPulr7hPC5ElG1c1uXbpT6-eOlLa\"\n",
    "genius_headers = {'Authorization': 'Bearer ' + bearer_token}\n",
    "genius_search_url = genius_base_url + \"/search\""
   ]
  },
  {
   "cell_type": "code",
   "execution_count": 40,
   "metadata": {},
   "outputs": [
    {
     "name": "stdout",
     "output_type": "stream",
     "text": [
      "https://genius.com/Kendrick-lamar-i-merchandise-annotated\n"
     ]
    }
   ],
   "source": [
    "# search for a test song\n",
    "song_title = \"i\"\n",
    "artist_name = \"Kendrick Lamar\"\n",
    "genius_data = {'q': song_title + ' ' + artist_name}\n",
    "genius_response = requests.get(genius_search_url, params=genius_data, headers=genius_headers)\n",
    "genius_json = genius_response.json()\n",
    "\n",
    "# loop through hit in json request to pull out song url\n",
    "for hit in genius_json[\"response\"][\"hits\"]:\n",
    "    if hit[\"result\"][\"primary_artist\"][\"name\"] == artist_name:\n",
    "        song_url = hit[\"result\"][\"url\"]\n",
    "        break\n",
    "\n",
    "print(song_url)"
   ]
  },
  {
   "cell_type": "code",
   "execution_count": 41,
   "metadata": {},
   "outputs": [
    {
     "name": "stdout",
     "output_type": "stream",
     "text": [
      "\n",
      "\n",
      "i Snapback:\n",
      "\n",
      "i T-Shirt:\n",
      "\n",
      "\n",
      "\n"
     ]
    }
   ],
   "source": [
    "# use beautiful soup to crawl found song url and store the lyrics\n",
    "song_page = requests.get(song_url)\n",
    "song_html = BeautifulSoup(song_page.text, 'html.parser')\n",
    "song_lyrics = song_html.find('div', class_='lyrics').get_text()\n",
    "print(song_lyrics)"
   ]
  },
  {
   "cell_type": "code",
   "execution_count": null,
   "metadata": {},
   "outputs": [],
   "source": []
  }
 ],
 "metadata": {
  "kernelspec": {
   "display_name": "Python [conda env:PythonData]",
   "language": "python",
   "name": "conda-env-PythonData-py"
  },
  "language_info": {
   "codemirror_mode": {
    "name": "ipython",
    "version": 3
   },
   "file_extension": ".py",
   "mimetype": "text/x-python",
   "name": "python",
   "nbconvert_exporter": "python",
   "pygments_lexer": "ipython3",
   "version": "3.6.5"
  }
 },
 "nbformat": 4,
 "nbformat_minor": 2
}
