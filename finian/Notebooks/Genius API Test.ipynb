{
 "cells": [
  {
   "cell_type": "markdown",
   "metadata": {},
   "source": [
    "# Test Run of Genius API"
   ]
  },
  {
   "cell_type": "code",
   "execution_count": 5,
   "metadata": {},
   "outputs": [],
   "source": [
    "# import dependencies\n",
    "import pandas as pd\n",
    "import requests\n",
    "import json\n",
    "from bs4 import BeautifulSoup"
   ]
  },
  {
   "cell_type": "code",
   "execution_count": 6,
   "metadata": {},
   "outputs": [],
   "source": [
    "# define the url parameters for the API request\n",
    "genius_base_url = \"http://api.genius.com\"\n",
    "bearer_token = \"bv-wihATHV37pwdLcf76NJyTHNnUFq-sGHcWVPulr7hPC5ElG1c1uXbpT6-eOlLa\"\n",
    "genius_headers = {'Authorization': 'Bearer ' + bearer_token}\n",
    "genius_search_url = genius_base_url + \"/search\""
   ]
  },
  {
   "cell_type": "code",
   "execution_count": 9,
   "metadata": {},
   "outputs": [
    {
     "name": "stdout",
     "output_type": "stream",
     "text": [
      "https://genius.com/Eminem-lose-yourself-lyrics\n"
     ]
    }
   ],
   "source": [
    "# search for a test song\n",
    "song_title = \"Bang Bang\"\n",
    "artist_name = \"Nicki Minaj\"\n",
    "genius_data = {'q': song_title + ' ' + artist_name}\n",
    "genius_response = requests.get(genius_search_url, params=genius_data, headers=genius_headers)\n",
    "genius_json = genius_response.json()\n",
    "\n",
    "# loop through hit in json request to pull out song url\n",
    "for hit in genius_json[\"response\"][\"hits\"]:\n",
    "    if hit[\"result\"][\"primary_artist\"][\"name\"] == artist_name:\n",
    "        song_url = hit[\"result\"][\"url\"]\n",
    "        break\n",
    "\n",
    "print(song_url)"
   ]
  },
  {
   "cell_type": "code",
   "execution_count": 10,
   "metadata": {},
   "outputs": [
    {
     "name": "stdout",
     "output_type": "stream",
     "text": [
      "\n",
      "\n",
      "[Intro]\n",
      "Look, if you had one shot, or one opportunity\n",
      "To seize everything you ever wanted, in one moment\n",
      "Would you capture it, or just let it slip?\n",
      "\n",
      "\n",
      "[Verse 1]\n",
      "Yo! His palms are sweaty, knees weak, arms are heavy\n",
      "There's vomit on his sweater already: Mom's spaghetti\n",
      "He's nervous, but on the surface he looks calm and ready\n",
      "To drop bombs, but he keeps on forgetting\n",
      "What he wrote down, the whole crowd goes so loud\n",
      "He opens his mouth, but the words won't come out\n",
      "He's choking, how? Everybody's joking now\n",
      "The clock's run out, time's up, over—blaow!\n",
      "Snap back to reality, oh there goes gravity, oh\n",
      "There goes Rabbit, he choked, he's so mad but he won't\n",
      "Give up that easy, no, he won't have it, he knows\n",
      "His whole back's to these ropes, it don't matter, he's dope\n",
      "He knows that but he's broke, he's so stagnant, he knows\n",
      "When he goes back to this mobile home, that's when it's\n",
      "Back to the lab again yo, this whole rhapsody\n",
      "Better go capture this moment and hope it don't pass him\n",
      "\n",
      "[Chorus]\n",
      "You better lose yourself in the music\n",
      "The moment, you own it, you better never let it go\n",
      "You only get one shot, do not miss your chance to blow\n",
      "This opportunity comes once in a lifetime, yo\n",
      "You better lose yourself in the music\n",
      "The moment, you own it, you better never let it go\n",
      "You only get one shot, do not miss your chance to blow\n",
      "This opportunity comes once in a lifetime, yo\n",
      "You better…\n",
      "\n",
      "[Verse 2]\n",
      "His soul's escaping through this hole that is gaping\n",
      "This world is mine for the taking, make me king\n",
      "As we move toward a New World Order\n",
      "A normal life is boring; but superstardom's\n",
      "Close to post-mortem, it only grows harder\n",
      "Homie grows hotter, he blows, it's all over\n",
      "These hoes is all on him, coast-to-coast shows\n",
      "He's known as the Globetrotter, lonely roads\n",
      "God only knows, he's grown farther from home, he's no father\n",
      "He goes home and barely knows his own daughter\n",
      "But hold your nose, 'cause here goes the cold water\n",
      "These hoes don't want him no mo', he's cold product\n",
      "They moved on to the next schmoe who flows\n",
      "He nose-dove and sold nada, and so the soap opera\n",
      "Is told, it unfolds, I suppose it's old, partner\n",
      "But the beat goes on: da-da-dom, da-dom, dah-dah, dah-dah\n",
      "\n",
      "[Chorus]\n",
      "You better lose yourself in the music\n",
      "The moment, you own it, you better never let it go\n",
      "You only get one shot, do not miss your chance to blow\n",
      "This opportunity comes once in a lifetime, yo\n",
      "You better lose yourself in the music\n",
      "The moment, you own it, you better never let it go\n",
      "You only get one shot, do not miss your chance to blow\n",
      "This opportunity comes once in a lifetime, yo\n",
      "You better…\n",
      "\n",
      "[Verse 3]\n",
      "No more games, I'ma change what you call rage\n",
      "Tear this motherfuckin' roof off like two dogs caged\n",
      "I was playin' in the beginning, the mood all changed\n",
      "I've been chewed up and spit out and booed off stage\n",
      "But I kept rhymin' and stepped right in the next cypher\n",
      "Best believe somebody's payin' the Pied Piper\n",
      "All the pain inside amplified by the\n",
      "Fact that I can't get by with my nine-to-\n",
      "Five and I can't provide the right type of life for my family\n",
      "'Cause man, these goddamn food stamps don't buy diapers\n",
      "And there's no movie, there's no Mekhi Phifer, this is my life\n",
      "And these times are so hard, and it's gettin' even harder\n",
      "Tryna feed and water my seed, plus teeter-totter\n",
      "Caught up between bein' a father and a prima donna\n",
      "Baby mama drama, screamin' on her, too much for me to wanna\n",
      "Stay in one spot, another day of monotony's\n",
      "Gotten me to the point I'm like a snail, I've got\n",
      "To formulate a plot or end up in jail or shot\n",
      "Success is my only motherfuckin' option—failure's not\n",
      "Mom, I love you, but this trailer's got\n",
      "To go; I cannot grow old in Salem's Lot\n",
      "So here I go, it's my shot: feet, fail me not\n",
      "This may be the only opportunity that I got\n",
      "\n",
      "[Chorus]\n",
      "You better lose yourself in the music\n",
      "The moment, you own it, you better never let it go\n",
      "You only get one shot, do not miss your chance to blow\n",
      "This opportunity comes once in a lifetime, yo\n",
      "You better lose yourself in the music\n",
      "The moment, you own it, you better never let it go\n",
      "You only get one shot, do not miss your chance to blow\n",
      "This opportunity comes once in a lifetime, yo\n",
      "You better…\n",
      "\n",
      "[Outro]\n",
      "You can do anything you set your mind to, man\n",
      "\n",
      "\n"
     ]
    }
   ],
   "source": [
    "# use beautiful soup to crawl found song url and store the lyrics\n",
    "song_page = requests.get(song_url)\n",
    "song_html = BeautifulSoup(song_page.text, 'html.parser')\n",
    "song_lyrics = song_html.find('div', class_='lyrics').get_text()\n",
    "print(song_lyrics)"
   ]
  },
  {
   "cell_type": "code",
   "execution_count": null,
   "metadata": {},
   "outputs": [],
   "source": []
  }
 ],
 "metadata": {
  "kernelspec": {
   "display_name": "Python [conda env:PythonData]",
   "language": "python",
   "name": "conda-env-PythonData-py"
  },
  "language_info": {
   "codemirror_mode": {
    "name": "ipython",
    "version": 3
   },
   "file_extension": ".py",
   "mimetype": "text/x-python",
   "name": "python",
   "nbconvert_exporter": "python",
   "pygments_lexer": "ipython3",
   "version": "3.6.5"
  }
 },
 "nbformat": 4,
 "nbformat_minor": 2
}
