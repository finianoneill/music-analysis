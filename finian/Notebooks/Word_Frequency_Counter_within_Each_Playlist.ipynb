{
 "cells": [
  {
   "cell_type": "markdown",
   "metadata": {},
   "source": [
    "# Word Frequency Counter\n",
    "## This Jupyter Notebook will loop through each saved playlist within the file directory. Within a given playlist, the code will loop through all of the lyrics and count the frequency of every word that appears."
   ]
  },
  {
   "cell_type": "code",
   "execution_count": null,
   "metadata": {},
   "outputs": [],
   "source": [
    "# Import dependencies\n",
    "import numpy as np\n",
    "import pandas as pd"
   ]
  },
  {
   "cell_type": "code",
   "execution_count": null,
   "metadata": {},
   "outputs": [],
   "source": [
    "# provide base path to the dataframes\n",
    "dataframe_base_path = \"../Data_Files/Play_Lists/\"\n",
    "\n",
    "# create list of all of the dataframe names\n",
    "dataframe_names = [\"today_top_hits\", \"rap_caviar\", \"mint\", \"rock_this\", \"are_and_be\", \n",
    "             \"viva_latino\", \"hot_country\", \"new_music_friday_malaysia\",\n",
    "             \"viral_hits\", \"fresh_finds\", \"global_top_50\", \"united_states_top_50\",\n",
    "             \"global_viral_50\", \"united_states_viral_50\"]"
   ]
  },
  {
   "cell_type": "code",
   "execution_count": null,
   "metadata": {},
   "outputs": [],
   "source": []
  },
  {
   "cell_type": "code",
   "execution_count": null,
   "metadata": {},
   "outputs": [],
   "source": [
    "test_lyrics = pd.read_table(\"C://Users/winth/Desktop/test_lyrics.txt\",\n",
    "                            names = [\"Lyrics\"])\n",
    "test_lyrics = test_lyrics[\"Lyrics\"].values.tolist()\n",
    "test_lyrics\n",
    "\n",
    "lyrics = []\n",
    "\n",
    "for line in test_lyrics:\n",
    "    if not line.startswith('['):\n",
    "        #output.write(line)\n",
    "        lyrics.append(line)\n",
    "        \n",
    "lyrics"
   ]
  }
 ],
 "metadata": {
  "kernelspec": {
   "display_name": "Python [conda env:PythonData]",
   "language": "python",
   "name": "conda-env-PythonData-py"
  },
  "language_info": {
   "codemirror_mode": {
    "name": "ipython",
    "version": 3
   },
   "file_extension": ".py",
   "mimetype": "text/x-python",
   "name": "python",
   "nbconvert_exporter": "python",
   "pygments_lexer": "ipython3",
   "version": "3.6.5"
  }
 },
 "nbformat": 4,
 "nbformat_minor": 2
}
